{
 "cells": [
  {
   "cell_type": "code",
   "execution_count": 198,
   "metadata": {},
   "outputs": [],
   "source": [
    "import pandas as pd\n",
    "import numpy as np\n",
    "import sklearn\n"
   ]
  },
  {
   "cell_type": "code",
   "execution_count": 211,
   "metadata": {},
   "outputs": [
    {
     "name": "stdout",
     "output_type": "stream",
     "text": [
      "the value of default measurement of linear regression 0.30902254918689576\n",
      "MSE train:0.691 \n",
      "MSE test:0.653811\n"
     ]
    }
   ],
   "source": [
    "data1=pd.read_csv(\"/home/skawke/人工智慧/期末demo/Life expectancy.csv\")\n",
    "data2=pd.read_csv(\"/home/skawke/人工智慧/期末demo/Suicide Rate.csv\",thousands=',')\n",
    "\n",
    "data3=data2.loc[28]\n",
    "data2.loc[28]=data2.loc[31]\n",
    "data2.loc[31]=data3\n",
    "data3=data2.loc[29]\n",
    "data2.loc[29]=data2.loc[31]\n",
    "data2.loc[31]=data3\n",
    "data3=data2.loc[30]\n",
    "data2.loc[30]=data2.loc[31]\n",
    "data2.loc[31]=data3\n",
    "for i in range(91,117,3):\n",
    "    data3=data2.loc[i]\n",
    "    data2.loc[i]=data2.loc[88]\n",
    "    data2.loc[88]=data3\n",
    "    i=i+1\n",
    "    data3=data2.loc[i]\n",
    "    data2.loc[i]=data2.loc[89]\n",
    "    data2.loc[89]=data3\n",
    "    i=i+1\n",
    "    data3=data2.loc[i]\n",
    "    data2.loc[i]=data2.loc[90]\n",
    "    data2.loc[90]=data3\n",
    "for i in range(118,139,2):\n",
    "    data3=data2.loc[i]\n",
    "    data2.loc[i]=data2.loc[88]\n",
    "    data2.loc[88]=data3\n",
    "    i=i+1\n",
    "    data3=data2.loc[i]\n",
    "    data2.loc[i]=data2.loc[89]\n",
    "    data2.loc[89]=data3\n",
    "data1.loc[88]=data1.loc[140]\n",
    "data1.loc[89]=data1.loc[141]\n",
    "data2.loc[89]=data2.loc[139]\n",
    "\n",
    "data1=data1.drop(labels=90) \n",
    "data1=data1.drop(labels=137) \n",
    "data1=data1.drop(labels=138) \n",
    "data1=data1.drop(labels=139) \n",
    "data1=data1.drop(labels=140) \n",
    "data1=data1.drop(labels=141) \n",
    "data2=data2.drop(labels=90) \n",
    "data2=data2.drop(labels=137) \n",
    "data2=data2.drop(labels=138) \n",
    "data2=data2.drop(labels=139) \n",
    "data1=data1.drop(columns='Country') \n",
    "data2=data2.drop(columns='Country') \n",
    "temp=data2['Suicide rate']\n",
    "data2=data2.drop(columns='Suicide rate') \n",
    "data=np.hstack((data1,data2))\n",
    "target=temp.values\n",
    "\n",
    "from sklearn.model_selection import train_test_split\n",
    "from sklearn.preprocessing import StandardScaler\n",
    "from sklearn.linear_model import LinearRegression\n",
    "from sklearn.metrics import mean_squared_error\n",
    "\n",
    "train_data,test_data,train_target,test_target=train_test_split(data,target,test_size=0.25,random_state=13)\n",
    "std_traindata=StandardScaler().fit_transform(train_data)\n",
    "std_testdata=StandardScaler().fit_transform(test_data)\n",
    "std_traintarget=StandardScaler().fit_transform(train_target.reshape(-1,1))\n",
    "std_testtarget=StandardScaler().fit_transform(test_target.reshape(-1,1))\n",
    "\n",
    "LR=LinearRegression()\n",
    "LR.fit(std_traindata,std_traintarget)\n",
    "print('the value of default measurement of linear regression:',LR.score(std_traindata,std_traintarget))\n",
    "\n",
    "train_pred=LR.predict(std_traindata)\n",
    "test_pred=LR.predict(std_testdata)\n",
    "print('MSE train:%.3f ' %(mean_squared_error(std_traintarget,train_pred)))\n",
    "print('MSE test:%3f' % (mean_squared_error(std_testtarget,test_pred)))\n"
   ]
  },
  {
   "cell_type": "code",
   "execution_count": null,
   "metadata": {},
   "outputs": [],
   "source": []
  }
 ],
 "metadata": {
  "kernelspec": {
   "display_name": "Python 3",
   "language": "python",
   "name": "python3"
  },
  "language_info": {
   "codemirror_mode": {
    "name": "ipython",
    "version": 3
   },
   "file_extension": ".py",
   "mimetype": "text/x-python",
   "name": "python",
   "nbconvert_exporter": "python",
   "pygments_lexer": "ipython3",
   "version": "3.8.3"
  }
 },
 "nbformat": 4,
 "nbformat_minor": 4
}
